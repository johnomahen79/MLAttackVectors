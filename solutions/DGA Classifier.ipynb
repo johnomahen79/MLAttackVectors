{
 "cells": [
  {
   "cell_type": "markdown",
   "metadata": {},
   "source": [
    "# DGA Classifier\n",
    "\n",
    "The following code approximates the classification phase of Pleiades[1], a _domain-name generation algorithm_ detection system, or DGA. A DGA is used---typically by malware---to make a botnet's infrastructure agile, cheap, and resistant to takedown. At a high-level, a pseudorandom algorithm is seeded with something known to the botnet operator (e.g., current date or hash of the most recent Twitter post of a particular account) and generates `N` domains. These domains are used to connect to infrastructure, which tells the infected bots what to do. A botmaster can register only a few of these domains (saving money), while defenders must prevent _all_ from being registered to destroy a botnet. Luckily, these DGAs can be modeled!\n",
    "\n",
    "The following code classifies sets of domain names to the family of pseudorandom algorithms that generate them. A subset of Johannes Bacher's wonderful GitHub repo[2] was used for ground truth. The classification algorithm works roughly as follows:\n",
    "\n",
    "* Generate feature vector from set of domains. The features attempt to quantify the character distribution\n",
    "  * Within family, chunk domains into groups of `alpha = 10`\n",
    "  * For each 1,2,3,4-gram (character). Get mean, median, std. dev. of n-gram frequency (4 x 3 = 12 features)\n",
    "  * Mean & median of Shannon entropy[3] of registerable and subdomain (e.g., `google.com` and `mail.google.com`).\n",
    "  * Mean, med, std. dev, var of \n",
    "    * Length\n",
    "    * \\# of domain levels\n",
    "    * \\# distinct chars\n",
    "    * \\# distinct TLDs (e.g., `.com`)\n",
    "    * \\# of `.com` \n",
    "    * \\# of non-`.com`\n",
    "    * Ratio of \\# of `.com`/\\# of `.other`\n",
    "    * Mean/med/stddev TLD frequency\n",
    "\n",
    "Imagine you're using a botnet to spy on your competitors. However, they're on to you and have a model for your family of DGA. Try to break their model by making your DGA's domains look more like the DGA of some common, off-the-shelf malware so as not to arouse suspicion. Your goal is to:\n",
    "1. Defeat the DGA classifier by masquerading as another, and\n",
    "1. Use the above information to retrain the model to make it more robust (so they can't do the same to you!)\n",
    "\n",
    "For #1, try to compare two families by the properties above and generate a function to make the first class of domains \"look\" more like the second class of domains. You'll know you successfully generated an _adversarial example_ when the classifier incorrectly labels it. For #2, use your function to generate additional adversarial examples, use them to train a new model, and demonstrate that the new model is more robust against your function.\n",
    "\n",
    "## Notes\n",
    "* The `_build_ground_truth_dataframe` will generate some warnings. This is expected behavior. Carry on!\n",
    "\n",
    "## References\n",
    "\n",
    "* [1] https://www.usenix.org/system/files/conference/usenixsecurity12/sec12-final127.pdf\n",
    "* [2] https://github.com/baderj/domain_generation_algorithms\n",
    "* [3] https://en.wikipedia.org/wiki/Entropy_(information_theory)"
   ]
  },
  {
   "cell_type": "code",
   "execution_count": 1,
   "metadata": {},
   "outputs": [],
   "source": [
    "import math\n",
    "import pickle\n",
    "import string\n",
    "import fnmatch\n",
    "import os\n",
    "import sys\n",
    "from collections import Counter\n",
    "\n",
    "import tldextract\n",
    "import numpy as np\n",
    "from scipy.stats import describe\n",
    "from tqdm import tqdm_notebook\n",
    "from sklearn.ensemble import RandomForestClassifier\n",
    "from sklearn.model_selection import cross_val_score, cross_val_predict\n",
    "from sklearn.externals import joblib\n",
    "import pandas as pd\n",
    "import seaborn\n",
    "import matplotlib.pyplot as plt\n",
    "\n",
    "# Prevent tldextract fetching\n",
    "parsedomain = tldextract.TLDExtract(suffix_list_urls=None)\n",
    "\n",
    "## Utils\n",
    "def rwalk(directory, pattern):\n",
    "    \"\"\"Recursively search \"directory\" for files that match the Unix shell-style\n",
    "    wildcard given by \"pattern\" (like '*.mp3'). Returns matches as a generator.\"\"\"\n",
    "    for root, dirnames, filenames in os.walk(directory):\n",
    "        for filename in fnmatch.filter(filenames, pattern):\n",
    "            yield os.path.join(root, filename)\n",
    "\n",
    "def chunks(l, n, slide=None):\n",
    "    \"\"\"Yield successive `n`-sized chunks from iterable `l` with a sliding window of `slide`\n",
    "    indexes. Default value of slide has non-overlapping chunks.\"\"\"\n",
    "    if slide is None: slide = n\n",
    "    for i in range(0, len(l), slide):\n",
    "        yield l[i:i+n]\n",
    "\n",
    "def H(s):\n",
    "    \"\"\"Compute the Shannon entropy of an iterable\"\"\"\n",
    "    p, lns = Counter(s), float(len(s))\n",
    "    return -sum(count/lns * math.log(count/lns, 2) for count in p.values())\n",
    "\n",
    "## Classification helpers\n",
    "def _load_ground_truth(dgadir='../data/dga/ground-truth', class_subset=set(['banjori', 'kraken', 'qakbot', 'shiotob', 'simda'])):\n",
    "    \"\"\"Retrieve a map of class labels to a list of domains to train on. Params:\n",
    "    * `dgadir`: Default directory to grab ground truth from\n",
    "    * `class_subset`: Subset of class labels to consider.\n",
    "    \n",
    "    Hint! Use this to identify what the domain names \"look like\" for different classes.\"\"\"\n",
    "    def fixup(d):\n",
    "        return d.lower().strip()\n",
    "    classtodomains = {}\n",
    "    for path in rwalk(dgadir, '*.txt'):\n",
    "        with open(path) as f:\n",
    "            class_ = os.path.basename(os.path.dirname(path))\n",
    "            if class_subset is not None and class_ not in class_subset:\n",
    "                continue\n",
    "            classtodomains[class_] = list(map(fixup, f.readlines()))\n",
    "\n",
    "    return classtodomains\n",
    "\n",
    "def _ngrams(domains, ns=[1, 2, 3, 4]):\n",
    "    def stats(counter, n):\n",
    "        # you can use the below to see this w.r.t. all possibilities.\n",
    "        #possibilities = len(string.ascii_lowercase + string.digits + '-.')**n\n",
    "        l = list(counter.values())\n",
    "        res = describe(l)\n",
    "        median = np.median(l)\n",
    "\n",
    "        return [res.mean, median, math.sqrt(res.variance)]\n",
    "\n",
    "    features = []\n",
    "    for n in ns:\n",
    "        for domain in domains:\n",
    "            domain = domain.lower()\n",
    "            c = Counter([chunk for chunk in chunks(domain, n, slide=1) if len(chunk) == n])\n",
    "            features.extend(stats(c, n))\n",
    "\n",
    "    return features\n",
    "\n",
    "def _e2and3ld_entropy(domain):\n",
    "    def onlylast(domain):\n",
    "        return domain.split('.')[-1]\n",
    "    domain = domain.lower()\n",
    "    res = parsedomain(domain)\n",
    "    e2ld = '%s.%s' % (res.domain, res.suffix)\n",
    "    if res.subdomain:\n",
    "        e3ld = '%s.%s.%s' % (onlylast(res.subdomain),\n",
    "                             res.domain,\n",
    "                             res.suffix)\n",
    "    else:\n",
    "        e3ld = e2ld\n",
    "\n",
    "    return H(e2ld), H(e3ld)\n",
    "\n",
    "def _entropy(domains):\n",
    "    perdomain = {domain: _e2and3ld_entropy(domain) for domain in domains}\n",
    "    e2ld_h = [x[0] for x in perdomain.values()]\n",
    "    e3ld_h = [x[1] for x in perdomain.values()]\n",
    "\n",
    "    return (perdomain, [describe(e2ld_h).mean, np.median(e2ld_h),\n",
    "                        describe(e3ld_h).mean, np.median(e3ld_h)])\n",
    "\n",
    "def _len(domains):\n",
    "    lengths = list(map(len, domains))\n",
    "    res = describe(lengths)\n",
    "    return [res.mean, np.median(lengths), math.sqrt(res.variance), res.variance]\n",
    "\n",
    "def _levels(domains):\n",
    "    def numlevels(d):\n",
    "        return len(list(filter(lambda x: x == '.', d))) + 1\n",
    "    numlds = [numlevels(d) for d in domains]\n",
    "    res = describe(numlds)\n",
    "    return [res.mean, np.median(numlds), math.sqrt(res.variance), res.variance]\n",
    "\n",
    "def _tlds(domains):\n",
    "    return len(Counter([x.split('.')[-1] for x in domains]))\n",
    "\n",
    "def _distinctchars(domains):\n",
    "    return len(Counter(''.join(domains)))\n",
    "\n",
    "def vectorize(domains):\n",
    "    features = []\n",
    "    features.extend(_ngrams(domains))\n",
    "    features.extend(_entropy(domains)[1])\n",
    "    features.extend(_len(domains))\n",
    "    features.extend(_levels(domains))\n",
    "    features.append(_tlds(domains))\n",
    "    features.append(_distinctchars(domains))\n",
    "    return features\n",
    "\n",
    "def _build_ground_truth_dataframe(alpha=10, dgadir='../data/dga/ground-truth', class_subset=set(['banjori', 'kraken', 'qakbot', 'shiotob', 'simda'])):\n",
    "    X, y = [], []\n",
    "    for class_, domains in tqdm_notebook(_load_ground_truth(dgadir=dgadir, class_subset=class_subset).items(), desc='Classes', position=0):\n",
    "        for domain_chunks in chunks(domains, alpha):\n",
    "            features = vectorize(domain_chunks)\n",
    "            if len(features) != 134:\n",
    "                #sys.stderr.write('Error with chunk from %s\\n' % class_)\n",
    "                continue\n",
    "            X.append(features)\n",
    "            y.append(class_)\n",
    "\n",
    "    return np.array(X), np.array(y)\n",
    "\n",
    "def _heatmap(crosstab):\n",
    "    plt.clf()\n",
    "    p = seaborn.heatmap(crosstab, square=True, vmin=0.0, vmax=1.0)\n",
    "    plt.tight_layout()\n",
    "    plt.show()\n",
    "\n",
    "def _cv(X, y, k, name, clf, csvname, modeldir=None, terms=None, resultdir=None):\n",
    "    print('## %s' % name)\n",
    "    print('### Cross Validation')\n",
    "    print('`%s`' % str(cross_val_score(clf, X, y, cv=k)))\n",
    "    print('### CV Confusion Matrix')\n",
    "    y_pred = cross_val_predict(clf, X, y, cv=k)\n",
    "    print('```')\n",
    "    print(pd.crosstab(y, y_pred, rownames=['True'], colnames=['Predicted']))\n",
    "    print('```')\n",
    "\n",
    "    _heatmap(pd.crosstab(y, y_pred, rownames=['True'], colnames=['Predicted'],\n",
    "                         normalize='index'))\n",
    "\n",
    "    clf.fit(X, y)\n",
    "    return clf\n",
    "\n",
    "def save(obj, path):\n",
    "    with open(path, 'wb') as f:\n",
    "        pickle.dump(obj, f)\n",
    "\n",
    "def load(path):\n",
    "    with open(path, 'rb') as f:\n",
    "        return pickle.load(f)"
   ]
  },
  {
   "cell_type": "markdown",
   "metadata": {},
   "source": [
    "## Build ground truth dataframe, cross validate, and fit the model"
   ]
  },
  {
   "cell_type": "code",
   "execution_count": 2,
   "metadata": {},
   "outputs": [
    {
     "data": {
      "application/vnd.jupyter.widget-view+json": {
       "model_id": "831dc49096da4c019a31fea4af078ae6",
       "version_major": 2,
       "version_minor": 0
      },
      "text/plain": [
       "HBox(children=(IntProgress(value=0, description='Classes', max=5, style=ProgressStyle(description_width='initi…"
      ]
     },
     "metadata": {},
     "output_type": "display_data"
    },
    {
     "name": "stderr",
     "output_type": "stream",
     "text": [
      "/opt/conda/lib/python3.6/site-packages/numpy/core/fromnumeric.py:3146: RuntimeWarning: Degrees of freedom <= 0 for slice\n",
      "  **kwargs)\n",
      "/opt/conda/lib/python3.6/site-packages/numpy/core/_methods.py:127: RuntimeWarning: invalid value encountered in double_scalars\n",
      "  ret = ret.dtype.type(ret / rcount)\n"
     ]
    },
    {
     "name": "stdout",
     "output_type": "stream",
     "text": [
      "\n",
      "## DGA Classifier\n",
      "### Cross Validation\n",
      "`[ 1.  1.  1.  1.  1.  1.  1.  1.  1.  1.]`\n",
      "### CV Confusion Matrix\n",
      "```\n",
      "Predicted  banjori  kraken  qakbot  shiotob  simda\n",
      "True                                              \n",
      "banjori        100       0       0        0      0\n",
      "kraken           0     200       0        0      0\n",
      "qakbot           0       1     499        0      0\n",
      "shiotob          0       0       0      200      0\n",
      "simda            0       0       0        0    100\n",
      "```\n"
     ]
    },
    {
     "data": {
      "image/png": "[encoded data removed]",
      "text/plain": [
       "<Figure size 432x288 with 2 Axes>"
      ]
     },
     "metadata": {
      "needs_background": "light"
     },
     "output_type": "display_data"
    }
   ],
   "source": [
    "X, y = _build_ground_truth_dataframe()\n",
    "clf = _cv(X, y, 10, 'DGA Classifier', RandomForestClassifier(n_estimators=100), 'dga-classifier.csv')"
   ]
  },
  {
   "cell_type": "markdown",
   "metadata": {},
   "source": [
    "# Break DGA Classifier\n",
    "Let's try to break the classifier. The rough idea is as follows:\n",
    "* Examine the domains from the five classes\n",
    "* Identify similarities and differences between them\n",
    "* Choose an initial and target class. Now your goal is to make domains from the initial class \"look like\" the target class. I would recommend looking at:\n",
    "  * Which characters are used\n",
    "  * Which TLD (e.g., `.com` and `.net`) are used\n",
    "  * Length (is it fixed? is it random within some range?)\n",
    "* There's no one way to do this!\n",
    "\n",
    "Some helpful hints:\n",
    "* The classifier works on a group of `alpha=10` domains, i.e., 10 domains -> 1 feature vector.\n",
    "* Take a look at the `_load_ground_truth()` function to retrieve and examine domains.\n",
    "* `describe()` is your friend!"
   ]
  },
  {
   "cell_type": "code",
   "execution_count": 3,
   "metadata": {},
   "outputs": [
    {
     "name": "stdout",
     "output_type": "stream",
     "text": [
      "['bqkrtxgkmriwsiwcngtivpx.info', 'jdtmfupdyueqeldvhsjzdvzob.net', 'guhmpoxzivhba.com', 'nqqxqhuacaqhzurde.org', 'lgqsqgpqzijwid.info', 'ykolyecdcyk.biz', 'ztvflnxqzpxvpfobv.biz', 'zqrmkpivrbxccawozqwqpfzh.org', 'iqyqwhntrxfeq.org', 'ftadkbomxlnsib.info']\n",
      "['xpdbwuimwag.com', 'nwpegpjtx.com', 'smmyuhxlt.net', 'xjvyvnzivvt.net', 'lvctmusxcyz.tv', 'lvctmusxcyz.tv', 'cjuszcfwo.cc', 'egbmbdey.cc', 'wjxaprgne.com', 'vxbuggxhrgi.com']\n",
      "['earnestnessbiophysicalohax.com', 'kwtoestnessbiophysicalohax.com', 'rvcxestnessbiophysicalohax.com', 'hjbtestnessbiophysicalohax.com', 'txmoestnessbiophysicalohax.com', 'agekestnessbiophysicalohax.com', 'dbzwestnessbiophysicalohax.com', 'sgjxestnessbiophysicalohax.com', 'igjyestnessbiophysicalohax.com', 'zxahestnessbiophysicalohax.com']\n",
      "['wtipubctwiekhir.net', 'rwmu35avqo12tqc.com', 'rskb5bsfhm2fk5h.net', 'rbp9pprrxgflut9.com', 'zzxeyzgy45yy2a.net', 'e3oa4wglvd21xa.com', 'mqmq1hvmtxzjv.net', 'pd4o4wu24vimn.com', 'tlmrzvpbpsqsb.net', 'pbmnz59uzndpo.com']\n",
      "['gatyfus.com', 'lyvyxor.com', 'vojyqem.com', 'qetyfuv.com', 'puvyxil.com', 'gahyqah.com', 'lyryfyd.com', 'vocyzit.com', 'qegyqaq.com', 'purydyv.com']\n"
     ]
    }
   ],
   "source": [
    "gt = _load_ground_truth()\n",
    "print(gt['qakbot'][:10])\n",
    "print(gt['kraken'][:10])\n",
    "print(gt['banjori'][:10])\n",
    "print(gt['shiotob'][:10])\n",
    "print(gt['simda'][:10])"
   ]
  },
  {
   "cell_type": "code",
   "execution_count": 4,
   "metadata": {},
   "outputs": [
    {
     "name": "stdout",
     "output_type": "stream",
     "text": [
      "shiotob domains:  ['wtipubctwiekhir.net', 'rwmu35avqo12tqc.com', 'rskb5bsfhm2fk5h.net', 'rbp9pprrxgflut9.com', 'zzxeyzgy45yy2a.net', 'e3oa4wglvd21xa.com', 'mqmq1hvmtxzjv.net', 'pd4o4wu24vimn.com', 'tlmrzvpbpsqsb.net', 'pbmnz59uzndpo.com']\n",
      "simda domains:  ['gatyfus.com', 'lyvyxor.com', 'vojyqem.com', 'qetyfuv.com', 'puvyxil.com', 'gahyqah.com', 'lyryfyd.com', 'vocyzit.com', 'qegyqaq.com', 'purydyv.com']\n",
      "shiotob length distribution:  DescribeResult(nobs=2001, minmax=(14, 19), mean=16.566716641679161, variance=3.1346716641679153, skewness=-0.04442852445645261, kurtosis=-1.3473517603009253)\n",
      "simda length distribution:  DescribeResult(nobs=1000, minmax=(11, 11), mean=11.0, variance=0.0, skewness=0.0, kurtosis=-3.0)\n"
     ]
    }
   ],
   "source": [
    "print('shiotob domains: ', gt['shiotob'][:10])\n",
    "print('simda domains: ', gt['simda'][:10])\n",
    "print('shiotob length distribution: ', describe(list(map(len, gt['shiotob']))))\n",
    "print('simda length distribution: ', describe(list(map(len, gt['simda']))))\n",
    "\n",
    "def simda_to_shiotob(simda_domain):\n",
    "    \"\"\"Looking at the above results, we can make two observations:\n",
    "    1.) simda domains are always 11 characters long\n",
    "    2.) shiotob domains are between 14 and 19 characters long\n",
    "    3.) simda domains only have letters\n",
    "    4.) shiotob domains have letters and numbers\n",
    "    \n",
    "    Let's try making simda domains 'look like' shiotob domains by randomly\n",
    "    adding between between 3 and 8 random digits.\"\"\"\n",
    "    import string\n",
    "    import random\n",
    "    chars_to_add = random.choices(string.digits, k=random.randint(3, 9))\n",
    "    return '%s%s' % (''.join(chars_to_add), simda_domain)"
   ]
  },
  {
   "cell_type": "markdown",
   "metadata": {},
   "source": [
    "Let's try a small example using the above function. Recall the classifier needs a set of domain names to classify. Let's transform 10 simda domains to look like shiotob domains using our function above and seeing if we've tricked the classifier."
   ]
  },
  {
   "cell_type": "code",
   "execution_count": 5,
   "metadata": {},
   "outputs": [
    {
     "name": "stdout",
     "output_type": "stream",
     "text": [
      "simda->shiotob-like domains:  ['561451932gatyfus.com', '7916100lyvyxor.com', '326544vojyqem.com', '9146qetyfuv.com', '042puvyxil.com', '12800625gahyqah.com', '746652964lyryfyd.com', '65128327vocyzit.com', '6650qegyqaq.com', '92185574purydyv.com']\n",
      "simda->shiotob-like length distribution:  DescribeResult(nobs=10, minmax=(14, 20), mean=17.600000000000001, variance=4.9333333333333327, skewness=-0.4925360410391367, kurtosis=-1.2885317750182599)\n"
     ]
    },
    {
     "data": {
      "text/plain": [
       "array(['shiotob'],\n",
       "      dtype='<U7')"
      ]
     },
     "execution_count": 5,
     "metadata": {},
     "output_type": "execute_result"
    }
   ],
   "source": [
    "simda_to_shiotob_one = [simda_to_shiotob(simda_domain) for simda_domain in gt['simda'][:10]]\n",
    "print('simda->shiotob-like domains: ', simda_to_shiotob_one)\n",
    "print('simda->shiotob-like length distribution: ', describe(list(map(len, simda_to_shiotob_one))))\n",
    "simda_to_shiotob_vector_one = vectorize(simda_to_shiotob_one)\n",
    "clf.predict([simda_to_shiotob_vector_one])"
   ]
  },
  {
   "cell_type": "markdown",
   "metadata": {},
   "source": [
    "Looks like we were successful! Let's try this with 250 examples (so 25 feature vectors) now."
   ]
  },
  {
   "cell_type": "code",
   "execution_count": 6,
   "metadata": {},
   "outputs": [
    {
     "name": "stdout",
     "output_type": "stream",
     "text": [
      "Predicted  shiotob\n",
      "True              \n",
      "simda           25\n"
     ]
    },
    {
     "data": {
      "image/png": "[encoded data removed]",
      "text/plain": [
       "<Figure size 432x288 with 2 Axes>"
      ]
     },
     "metadata": {
      "needs_background": "light"
     },
     "output_type": "display_data"
    }
   ],
   "source": [
    "simda_to_shiotob_many = []\n",
    "for chunk in chunks(gt['simda'][:250], 10):\n",
    "    simda_to_shiotob_many.append([simda_to_shiotob(simda_domain) for simda_domain in chunk])\n",
    "simda_to_shiotob_vector_many = [vectorize(chunk) for chunk in simda_to_shiotob_many]\n",
    "y_pred = clf.predict(simda_to_shiotob_vector_many)\n",
    "y_true = np.array(['simda'] * 25)\n",
    "print(pd.crosstab(y_true, y_pred, rownames=['True'], colnames=['Predicted']))\n",
    "_heatmap(pd.crosstab(y_true, y_pred, rownames=['True'], colnames=['Predicted'],\n",
    "                     normalize='index'))"
   ]
  },
  {
   "cell_type": "markdown",
   "metadata": {},
   "source": [
    "It isn't perfect, but a class that once had 0 confusion now has quite a bit of confusion! This is a bit random, so don't be surprised if you see 100% misclassification (one light square where shiotob is predicted but true is simda) or something closer to 50-50."
   ]
  },
  {
   "cell_type": "markdown",
   "metadata": {},
   "source": [
    "# Fix DGA Classifier\n",
    "Using your function from the previous step, generate a set of _adversarial examples_ and use those to retrain the classifier. Show that it's more resistant. I would recommend:\n",
    "* Generating the original ground truth dataset\n",
    "* Appending your new vectors/labels to X and y\n",
    "* Rerunning `_cv` to get a new classifier\n",
    "* Checking if the new classifier can handle your perturbations"
   ]
  },
  {
   "cell_type": "code",
   "execution_count": 7,
   "metadata": {},
   "outputs": [
    {
     "data": {
      "application/vnd.jupyter.widget-view+json": {
       "model_id": "63e092dc555d4fdaaf290182327dc239",
       "version_major": 2,
       "version_minor": 0
      },
      "text/plain": [
       "HBox(children=(IntProgress(value=0, description='Classes', max=5, style=ProgressStyle(description_width='initi…"
      ]
     },
     "metadata": {},
     "output_type": "display_data"
    },
    {
     "name": "stderr",
     "output_type": "stream",
     "text": [
      "/opt/conda/lib/python3.6/site-packages/numpy/core/fromnumeric.py:3146: RuntimeWarning: Degrees of freedom <= 0 for slice\n",
      "  **kwargs)\n",
      "/opt/conda/lib/python3.6/site-packages/numpy/core/_methods.py:127: RuntimeWarning: invalid value encountered in double_scalars\n",
      "  ret = ret.dtype.type(ret / rcount)\n"
     ]
    },
    {
     "name": "stdout",
     "output_type": "stream",
     "text": [
      "\n"
     ]
    }
   ],
   "source": [
    "new_X, new_y = _build_ground_truth_dataframe()\n",
    "new_X = np.vstack((new_X, simda_to_shiotob_vector_many))\n",
    "new_y = np.append(new_y, ['simda'] * 25)"
   ]
  },
  {
   "cell_type": "code",
   "execution_count": 8,
   "metadata": {},
   "outputs": [
    {
     "name": "stdout",
     "output_type": "stream",
     "text": [
      "## DGA Classifier\n",
      "### Cross Validation\n",
      "`[ 1.          1.          1.          1.          1.          0.99107143\n",
      "  1.          0.98214286  0.90178571  0.92857143]`\n",
      "### CV Confusion Matrix\n",
      "```\n",
      "Predicted  banjori  kraken  qakbot  shiotob  simda\n",
      "True                                              \n",
      "banjori        100       0       0        0      0\n",
      "kraken           0     200       0        0      0\n",
      "qakbot           0       1     499        0      0\n",
      "shiotob          0       0       0      200      0\n",
      "simda            0       0       0       17    108\n",
      "```\n"
     ]
    },
    {
     "data": {
      "image/png": "[encoded data removed]",
      "text/plain": [
       "<Figure size 432x288 with 2 Axes>"
      ]
     },
     "metadata": {
      "needs_background": "light"
     },
     "output_type": "display_data"
    }
   ],
   "source": [
    "clf_retrained = _cv(new_X, new_y, 10, 'DGA Classifier', RandomForestClassifier(n_estimators=100), 'dga-classifier.csv')"
   ]
  },
  {
   "cell_type": "code",
   "execution_count": 9,
   "metadata": {},
   "outputs": [
    {
     "name": "stdout",
     "output_type": "stream",
     "text": [
      "Predicted  shiotob  simda\n",
      "True                     \n",
      "simda           10     15\n"
     ]
    },
    {
     "data": {
      "image/png": "[encoded data removed]",
      "text/plain": [
       "<Figure size 432x288 with 2 Axes>"
      ]
     },
     "metadata": {
      "needs_background": "light"
     },
     "output_type": "display_data"
    }
   ],
   "source": [
    "simda_to_shiotob_many = []\n",
    "for chunk in chunks(gt['simda'][250:500], 10):\n",
    "    simda_to_shiotob_many.append([simda_to_shiotob(simda_domain) for simda_domain in chunk])\n",
    "y_true = np.array(['simda'] * 25)\n",
    "simda_to_shiotob_vector_many = [vectorize(chunk) for chunk in simda_to_shiotob_many]\n",
    "y_pred = clf_retrained.predict(simda_to_shiotob_vector_many)\n",
    "print(pd.crosstab(y_true, y_pred, rownames=['True'], colnames=['Predicted']))\n",
    "_heatmap(pd.crosstab(y_true, y_pred, rownames=['True'], colnames=['Predicted'],\n",
    "                     normalize='index'))"
   ]
  },
  {
   "cell_type": "markdown",
   "metadata": {},
   "source": [
    "Not perfect, but definitely more resilient! Some follow on food for thought:\n",
    "* What cost comes along with retraining with adversarial examples?\n",
    "* What else could we do to improve "
   ]
  }
 ],
 "metadata": {
  "kernelspec": {
   "display_name": "Python 3",
   "language": "python",
   "name": "python3"
  },
  "language_info": {
   "codemirror_mode": {
    "name": "ipython",
    "version": 3
   },
   "file_extension": ".py",
   "mimetype": "text/x-python",
   "name": "python",
   "nbconvert_exporter": "python",
   "pygments_lexer": "ipython3",
   "version": "3.6.7"
  }
 },
 "nbformat": 4,
 "nbformat_minor": 2
}
